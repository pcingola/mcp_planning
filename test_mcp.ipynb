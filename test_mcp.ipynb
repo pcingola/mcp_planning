{
 "cells": [
  {
   "cell_type": "markdown",
   "id": "ab5e22be",
   "metadata": {},
   "source": [
    "# MCP Server tests"
   ]
  },
  {
   "cell_type": "code",
   "execution_count": null,
   "id": "026743eb",
   "metadata": {},
   "outputs": [],
   "source": [
    "import rich\n",
    "from fastmcp import Client\n",
    "from mcp_todo.server import mcp\n",
    "\n",
    "# In-memory server (ideal for testing)\n",
    "client = Client(mcp)"
   ]
  },
  {
   "cell_type": "code",
   "execution_count": null,
   "id": "010b91fd",
   "metadata": {},
   "outputs": [],
   "source": [
    "async with client:\n",
    "    # Basic server interaction\n",
    "    ret = await client.ping()\n",
    "    \n",
    "    # List available operations\n",
    "    tools = await client.list_tools()\n",
    "    # rich.print(tools)\n",
    "    \n",
    "    # Show task list\n",
    "    result = await client.call_tool(\"show_task_list\")\n",
    "    text = result.content[0].text if result.content else None\n",
    "    print(text)\n"
   ]
  },
  {
   "cell_type": "code",
   "execution_count": null,
   "id": "51072643",
   "metadata": {},
   "outputs": [],
   "source": []
  }
 ],
 "metadata": {
  "kernelspec": {
   "display_name": ".venv",
   "language": "python",
   "name": "python3"
  },
  "language_info": {
   "codemirror_mode": {
    "name": "ipython",
    "version": 3
   },
   "file_extension": ".py",
   "mimetype": "text/x-python",
   "name": "python",
   "nbconvert_exporter": "python",
   "pygments_lexer": "ipython3",
   "version": "3.12.2"
  }
 },
 "nbformat": 4,
 "nbformat_minor": 5
}
