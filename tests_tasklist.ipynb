{
 "cells": [
  {
   "cell_type": "markdown",
   "id": "ab5e22be",
   "metadata": {},
   "source": [
    "# Tests for TaskList"
   ]
  },
  {
   "cell_type": "code",
   "execution_count": 1,
   "id": "29ec5c2b",
   "metadata": {},
   "outputs": [
    {
     "data": {
      "text/plain": [
       "# Task List\n",
       "\n",
       "- [ ] 1: Main Task 1\n",
       "- [ ] 2: Main Task 2\n",
       "- [ ] 3: Main Task 3\n",
       "- [ ] 4: Main Task 4\n",
       "- [ ] 5: Main Task 5\n",
       "- [ ] 6: Main Task 6\n",
       "- [ ] 7: Main Task 7\n",
       "- [ ] 8: Main Task 8\n",
       "- [ ] 9: Main Task 9\n",
       "- [ ] 10: Main Task 10"
      ]
     },
     "execution_count": 1,
     "metadata": {},
     "output_type": "execute_result"
    }
   ],
   "source": [
    "# Create a task list with 10 items\n",
    "from mcp_planning.models import TaskList\n",
    "\n",
    "\n",
    "task_list = TaskList()\n",
    "for i in range(1, 11):\n",
    "    task_list.add_task(f\"Main Task {i}\")\n",
    "\n",
    "task_list"
   ]
  },
  {
   "cell_type": "code",
   "execution_count": 2,
   "id": "2c00986c",
   "metadata": {},
   "outputs": [
    {
     "data": {
      "text/plain": [
       "# Task List\n",
       "\n",
       "- [ ] 1: Main Task 1\n",
       "  - [ ] 1.1: Subtask 1.1\n",
       "- [ ] 2: Main Task 2\n",
       "- [ ] 3: Main Task 3\n",
       "- [ ] 4: Main Task 4\n",
       "- [ ] 5: Main Task 5\n",
       "- [ ] 6: Main Task 6\n",
       "- [ ] 7: Main Task 7\n",
       "- [ ] 8: Main Task 8\n",
       "- [ ] 9: Main Task 9\n",
       "- [ ] 10: Main Task 10"
      ]
     },
     "execution_count": 2,
     "metadata": {},
     "output_type": "execute_result"
    }
   ],
   "source": [
    "# Add nested tasks to create \"1.1.1\" and \"1.1.2\"\n",
    "task1 = task_list.get_task_by_id(\"1\")\n",
    "assert task1 is not None  # For Pylance\n",
    "\n",
    "# Add subtask 1.1\n",
    "assert task1.subtasks is not None  # For Pylance\n",
    "subtask1 = task1.subtasks.add_task(\"Subtask 1.1\")\n",
    "\n",
    "task_list"
   ]
  },
  {
   "cell_type": "code",
   "execution_count": 3,
   "id": "aa685636",
   "metadata": {},
   "outputs": [
    {
     "data": {
      "text/plain": [
       "# Task List\n",
       "\n",
       "- [ ] 1: Main Task 1\n",
       "  - [ ] 1.1: Subtask 1.1\n",
       "  - [ ] 1.2: Subtask 1.2\n",
       "- [ ] 2: Main Task 2\n",
       "- [ ] 3: Main Task 3\n",
       "- [ ] 4: Main Task 4\n",
       "- [ ] 5: Main Task 5\n",
       "- [ ] 6: Main Task 6\n",
       "- [ ] 7: Main Task 7\n",
       "- [ ] 8: Main Task 8\n",
       "- [ ] 9: Main Task 9\n",
       "- [ ] 10: Main Task 10"
      ]
     },
     "execution_count": 3,
     "metadata": {},
     "output_type": "execute_result"
    }
   ],
   "source": [
    "# Add nested tasks to create \"1.1.1\" and \"1.1.2\"\n",
    "task1 = task_list.get_task_by_id(\"1\")\n",
    "assert task1 is not None  # For Pylance\n",
    "\n",
    "# Add subtask 1.1\n",
    "assert task1.subtasks is not None  # For Pylance\n",
    "subtask1 = task1.subtasks.add_task(\"Subtask 1.2\")\n",
    "\n",
    "task_list"
   ]
  },
  {
   "cell_type": "code",
   "execution_count": 4,
   "id": "17e94689",
   "metadata": {},
   "outputs": [
    {
     "data": {
      "text/plain": [
       "# Task List\n",
       "\n",
       "- [ ] 1: Main Task 1\n",
       "  - [ ] 1.1: Subtask 1.1\n",
       "    - [ ] 1.1.1: Nested Task 1.1.1\n",
       "    - [ ] 1.1.2: Nested Task 1.1.2\n",
       "  - [ ] 1.2: Subtask 1.2\n",
       "- [ ] 2: Main Task 2\n",
       "- [ ] 3: Main Task 3\n",
       "- [ ] 4: Main Task 4\n",
       "- [ ] 5: Main Task 5\n",
       "- [ ] 6: Main Task 6\n",
       "- [ ] 7: Main Task 7\n",
       "- [ ] 8: Main Task 8\n",
       "- [ ] 9: Main Task 9\n",
       "- [ ] 10: Main Task 10"
      ]
     },
     "execution_count": 4,
     "metadata": {},
     "output_type": "execute_result"
    }
   ],
   "source": [
    "subtask1 = task_list.get_task_by_id(\"1.1\")\n",
    "\n",
    "# Add subtasks 1.1.1 and 1.1.2\n",
    "subsubtask1 = subtask1.add_task(\"Nested Task 1.1.1\")\n",
    "subsubtask2 = subtask1.add_task(\"Nested Task 1.1.2\")\n",
    "\n",
    "task_list"
   ]
  },
  {
   "cell_type": "code",
   "execution_count": 5,
   "id": "521c8395",
   "metadata": {},
   "outputs": [
    {
     "data": {
      "text/plain": [
       "# Task List\n",
       "\n",
       "- [ ] 1: Main Task 1\n",
       "  - [ ] 1.1: Subtask 1.1\n",
       "    - [ ] 1.1.1: Nested Task 1.1.1\n",
       "    - [ ] 1.1.2: Nested Task 1.1.2\n",
       "  - [ ] 1.2: Subtask 1.2\n",
       "- [ ] 2: Main Task 2\n",
       "- [ ] 3: Main Task 3\n",
       "- [ ] 4: Main Task 4\n",
       "- [ ] 5: Main Task 5\n",
       "- [ ] 6: Main Task 7\n",
       "- [ ] 7: Main Task 8\n",
       "- [ ] 8: Main Task 9\n",
       "- [ ] 9: Main Task 10"
      ]
     },
     "execution_count": 5,
     "metadata": {},
     "output_type": "execute_result"
    }
   ],
   "source": [
    "# Delete item \"1.1.1\"\n",
    "task_list.delete(\"6\")\n",
    "task_list"
   ]
  },
  {
   "cell_type": "code",
   "execution_count": 6,
   "id": "72e0cdd5",
   "metadata": {},
   "outputs": [
    {
     "data": {
      "text/plain": [
       "# Task List\n",
       "\n",
       "- [ ] 1: Main Task 1\n",
       "  - [ ] 1.1: Subtask 1.1\n",
       "    - [ ] 1.1.1: Nested Task 1.1.2\n",
       "  - [ ] 1.2: Subtask 1.2\n",
       "- [ ] 2: Main Task 2\n",
       "- [ ] 3: Main Task 3\n",
       "- [ ] 4: Main Task 4\n",
       "- [ ] 5: Main Task 5\n",
       "- [ ] 6: Main Task 7\n",
       "- [ ] 7: Main Task 8\n",
       "- [ ] 8: Main Task 9\n",
       "- [ ] 9: Main Task 10"
      ]
     },
     "execution_count": 6,
     "metadata": {},
     "output_type": "execute_result"
    }
   ],
   "source": [
    "# Delete item \"1.1.1\"\n",
    "task_list.delete(\"1.1.1\")\n",
    "task_list"
   ]
  },
  {
   "cell_type": "code",
   "execution_count": null,
   "id": "026743eb",
   "metadata": {},
   "outputs": [],
   "source": []
  }
 ],
 "metadata": {
  "kernelspec": {
   "display_name": ".venv",
   "language": "python",
   "name": "python3"
  },
  "language_info": {
   "codemirror_mode": {
    "name": "ipython",
    "version": 3
   },
   "file_extension": ".py",
   "mimetype": "text/x-python",
   "name": "python",
   "nbconvert_exporter": "python",
   "pygments_lexer": "ipython3",
   "version": "3.12.2"
  }
 },
 "nbformat": 4,
 "nbformat_minor": 5
}
