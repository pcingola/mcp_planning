{
 "cells": [
  {
   "cell_type": "markdown",
   "id": "ab5e22be",
   "metadata": {},
   "source": [
    "# Simple tests"
   ]
  },
  {
   "cell_type": "code",
   "execution_count": null,
   "id": "29ec5c2b",
   "metadata": {},
   "outputs": [],
   "source": [
    "# Create a task list with 10 items\n",
    "from mcp_planning.models import TaskList\n",
    "\n",
    "\n",
    "task_list = TaskList()\n",
    "for i in range(1, 11):\n",
    "    task_list.add_task(f\"Main Task {i}\")\n",
    "\n",
    "task_list"
   ]
  },
  {
   "cell_type": "code",
   "execution_count": null,
   "id": "2c00986c",
   "metadata": {},
   "outputs": [],
   "source": [
    "# Add nested tasks to create \"1.1.1\" and \"1.1.2\"\n",
    "task1 = task_list.get_task_by_id(\"1\")\n",
    "assert task1 is not None  # For Pylance\n",
    "\n",
    "# Add subtask 1.1\n",
    "assert task1.subtasks is not None  # For Pylance\n",
    "subtask1 = task1.subtasks.add_task(\"Subtask 1.1\")\n",
    "\n",
    "task_list"
   ]
  },
  {
   "cell_type": "code",
   "execution_count": null,
   "id": "aa685636",
   "metadata": {},
   "outputs": [],
   "source": [
    "# Add nested tasks to create \"1.1.1\" and \"1.1.2\"\n",
    "task1 = task_list.get_task_by_id(\"1\")\n",
    "assert task1 is not None  # For Pylance\n",
    "\n",
    "# Add subtask 1.1\n",
    "assert task1.subtasks is not None  # For Pylance\n",
    "subtask1 = task1.subtasks.add_task(\"Subtask 1.2\")\n",
    "\n",
    "task_list"
   ]
  },
  {
   "cell_type": "code",
   "execution_count": null,
   "id": "17e94689",
   "metadata": {},
   "outputs": [],
   "source": [
    "subtask1 = task_list.get_task_by_id(\"1.1\")\n",
    "\n",
    "# Add subtasks 1.1.1 and 1.1.2\n",
    "subsubtask1 = subtask1.add_task(\"Nested Task 1.1.1\")\n",
    "subsubtask2 = subtask1.add_task(\"Nested Task 1.1.2\")\n",
    "\n",
    "task_list"
   ]
  },
  {
   "cell_type": "code",
   "execution_count": null,
   "id": "521c8395",
   "metadata": {},
   "outputs": [],
   "source": [
    "# Delete item \"1.1.1\"\n",
    "task_list.delete(\"6\")\n",
    "task_list"
   ]
  },
  {
   "cell_type": "code",
   "execution_count": null,
   "id": "72e0cdd5",
   "metadata": {},
   "outputs": [],
   "source": [
    "# Delete item \"1.1.1\"\n",
    "task_list.delete(\"1.1.1\")\n",
    "task_list"
   ]
  },
  {
   "cell_type": "code",
   "execution_count": null,
   "id": "026743eb",
   "metadata": {},
   "outputs": [],
   "source": []
  }
 ],
 "metadata": {
  "kernelspec": {
   "display_name": ".venv",
   "language": "python",
   "name": "python3"
  },
  "language_info": {
   "codemirror_mode": {
    "name": "ipython",
    "version": 3
   },
   "file_extension": ".py",
   "mimetype": "text/x-python",
   "name": "python",
   "nbconvert_exporter": "python",
   "pygments_lexer": "ipython3",
   "version": "3.12.2"
  }
 },
 "nbformat": 4,
 "nbformat_minor": 5
}
